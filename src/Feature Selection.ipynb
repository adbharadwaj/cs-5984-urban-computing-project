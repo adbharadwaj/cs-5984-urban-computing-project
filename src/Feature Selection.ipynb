{
 "cells": [
  {
   "cell_type": "code",
   "execution_count": 25,
   "metadata": {
    "collapsed": true
   },
   "outputs": [],
   "source": [
    "%matplotlib inline\n",
    "import pandas as pd\n",
    "import seaborn as sns\n",
    "import matplotlib.pyplot as plt\n",
    "import itertools\n",
    "import datetime\n",
    "\n",
    "import numpy as np\n",
    "from time import time\n",
    "\n",
    "from sklearn import metrics\n",
    "from sklearn import preprocessing\n",
    "\n",
    "from sklearn.datasets.species_distributions import construct_grids\n",
    "from sklearn.neighbors import KernelDensity\n",
    "from sklearn.model_selection import TimeSeriesSplit\n",
    "from sklearn.pipeline import Pipeline\n",
    "from sklearn.svm import SVC\n",
    "import sklearn.metrics as metrics\n",
    "from sklearn.model_selection import cross_val_score, cross_val_predict\n",
    "from sklearn.model_selection import StratifiedShuffleSplit, StratifiedKFold\n",
    "from sklearn.neighbors import KNeighborsClassifier\n",
    "from sklearn.decomposition import PCA\n",
    "from sklearn.tree import DecisionTreeClassifier\n",
    "from sklearn.model_selection import train_test_split\n",
    "from sklearn.neural_network import MLPClassifier\n",
    "from sklearn.neighbors import KNeighborsClassifier\n",
    "from sklearn.svm import SVC\n",
    "from sklearn.gaussian_process import GaussianProcessClassifier\n",
    "from sklearn.gaussian_process.kernels import RBF\n",
    "from sklearn.feature_selection import RFE\n",
    "from sklearn.tree import DecisionTreeClassifier\n",
    "from sklearn.ensemble import RandomForestClassifier, AdaBoostClassifier\n",
    "from sklearn.naive_bayes import GaussianNB\n",
    "from sklearn.discriminant_analysis import QuadraticDiscriminantAnalysis\n",
    "\n",
    "import warnings\n",
    "warnings.filterwarnings('ignore')\n",
    "\n",
    "\n",
    "\n",
    "def parse_location(loc):\n",
    "    loc = loc.strip(\"()\").split(',')\n",
    "    lat = loc[0].strip()\n",
    "    long = loc[1].strip()\n",
    "    return float(lat), float(long)\n",
    "\n",
    "def classification_report(y_true, y_pred, verbose=False):\n",
    "    confusion_matrix = metrics.confusion_matrix(y_true, y_pred)\n",
    "    accuracy_score = metrics.accuracy_score(y_true, y_pred)\n",
    "    recall_score = metrics.recall_score(y_true, y_pred)\n",
    "    precision_score = metrics.precision_score(y_true, y_pred)\n",
    "    f1_score = metrics.f1_score(y_true, y_pred)\n",
    "    fpr, tpr, thresholds = metrics.roc_curve(y_true, y_pred)\n",
    "    auc = metrics.auc(fpr, tpr)\n",
    "    \n",
    "    if verbose:\n",
    "        print('confusion_matrix')\n",
    "        print(confusion_matrix)\n",
    "        print('accuracy_score', accuracy_score)\n",
    "        print('recall_score', recall_score)\n",
    "        print('precision_score', precision_score)\n",
    "        print('f1_score', f1_score)\n",
    "        print('auc', auc)\n",
    "    \n",
    "    return confusion_matrix, accuracy_score, recall_score, precision_score, f1_score, auc\n",
    "    \n",
    "\n",
    "def get_scaler(column):\n",
    "    X = np.array(column).reshape(column.shape[0], 1)\n",
    "    return preprocessing.MinMaxScaler().fit(column)\n",
    "\n",
    "def scale(scaler, column):\n",
    "    X = np.array(column).reshape(column.shape[0], 1)\n",
    "    return scaler.transform(X)"
   ]
  },
  {
   "cell_type": "code",
   "execution_count": 26,
   "metadata": {
    "collapsed": false
   },
   "outputs": [
    {
     "name": "stdout",
     "output_type": "stream",
     "text": [
      "CPU times: user 352 ms, sys: 12 ms, total: 364 ms\n",
      "Wall time: 367 ms\n"
     ]
    },
    {
     "data": {
      "text/html": [
       "<div>\n",
       "<table border=\"1\" class=\"dataframe\">\n",
       "  <thead>\n",
       "    <tr style=\"text-align: right;\">\n",
       "      <th></th>\n",
       "      <th>cell_range</th>\n",
       "      <th>crime_freq</th>\n",
       "      <th>yelp_freq</th>\n",
       "      <th>police_freq</th>\n",
       "      <th>lat</th>\n",
       "      <th>long</th>\n",
       "      <th>police_factor</th>\n",
       "      <th>yelp_factor</th>\n",
       "      <th>prev_day_crime_freq</th>\n",
       "      <th>prev_7_days_crime_freq</th>\n",
       "      <th>PRCP</th>\n",
       "      <th>SNOW</th>\n",
       "      <th>TMAX</th>\n",
       "      <th>TMIN</th>\n",
       "    </tr>\n",
       "    <tr>\n",
       "      <th>timestamp</th>\n",
       "      <th></th>\n",
       "      <th></th>\n",
       "      <th></th>\n",
       "      <th></th>\n",
       "      <th></th>\n",
       "      <th></th>\n",
       "      <th></th>\n",
       "      <th></th>\n",
       "      <th></th>\n",
       "      <th></th>\n",
       "      <th></th>\n",
       "      <th></th>\n",
       "      <th></th>\n",
       "      <th></th>\n",
       "    </tr>\n",
       "  </thead>\n",
       "  <tbody>\n",
       "    <tr>\n",
       "      <th>2006-01-01</th>\n",
       "      <td>((41.5487, -88.3713), (41.577144999999994, -88...</td>\n",
       "      <td>0</td>\n",
       "      <td>0</td>\n",
       "      <td>0</td>\n",
       "      <td>41.562922</td>\n",
       "      <td>-88.339368</td>\n",
       "      <td>4.175852e-24</td>\n",
       "      <td>0.069791</td>\n",
       "      <td>NaN</td>\n",
       "      <td>NaN</td>\n",
       "      <td>0.8</td>\n",
       "      <td>0</td>\n",
       "      <td>7.2</td>\n",
       "      <td>-3.3</td>\n",
       "    </tr>\n",
       "    <tr>\n",
       "      <th>2006-01-01</th>\n",
       "      <td>((41.5487, -88.307435), (41.577144999999994, -...</td>\n",
       "      <td>0</td>\n",
       "      <td>0</td>\n",
       "      <td>0</td>\n",
       "      <td>41.562922</td>\n",
       "      <td>-88.275503</td>\n",
       "      <td>1.625700e-19</td>\n",
       "      <td>1.140434</td>\n",
       "      <td>NaN</td>\n",
       "      <td>NaN</td>\n",
       "      <td>0.8</td>\n",
       "      <td>0</td>\n",
       "      <td>7.2</td>\n",
       "      <td>-3.3</td>\n",
       "    </tr>\n",
       "    <tr>\n",
       "      <th>2006-01-01</th>\n",
       "      <td>((41.5487, -88.24357), (41.577144999999994, -8...</td>\n",
       "      <td>0</td>\n",
       "      <td>0</td>\n",
       "      <td>0</td>\n",
       "      <td>41.562922</td>\n",
       "      <td>-88.211637</td>\n",
       "      <td>2.394447e-15</td>\n",
       "      <td>7.117705</td>\n",
       "      <td>NaN</td>\n",
       "      <td>NaN</td>\n",
       "      <td>0.8</td>\n",
       "      <td>0</td>\n",
       "      <td>7.2</td>\n",
       "      <td>-3.3</td>\n",
       "    </tr>\n",
       "    <tr>\n",
       "      <th>2006-01-01</th>\n",
       "      <td>((41.5487, -88.179705), (41.577144999999994, -...</td>\n",
       "      <td>0</td>\n",
       "      <td>0</td>\n",
       "      <td>0</td>\n",
       "      <td>41.562922</td>\n",
       "      <td>-88.147773</td>\n",
       "      <td>1.284389e-11</td>\n",
       "      <td>15.734032</td>\n",
       "      <td>NaN</td>\n",
       "      <td>NaN</td>\n",
       "      <td>0.8</td>\n",
       "      <td>0</td>\n",
       "      <td>7.2</td>\n",
       "      <td>-3.3</td>\n",
       "    </tr>\n",
       "    <tr>\n",
       "      <th>2006-01-01</th>\n",
       "      <td>((41.5487, -88.11584), (41.577144999999994, -8...</td>\n",
       "      <td>0</td>\n",
       "      <td>0</td>\n",
       "      <td>0</td>\n",
       "      <td>41.562922</td>\n",
       "      <td>-88.083908</td>\n",
       "      <td>2.434802e-08</td>\n",
       "      <td>11.941449</td>\n",
       "      <td>NaN</td>\n",
       "      <td>NaN</td>\n",
       "      <td>0.8</td>\n",
       "      <td>0</td>\n",
       "      <td>7.2</td>\n",
       "      <td>-3.3</td>\n",
       "    </tr>\n",
       "  </tbody>\n",
       "</table>\n",
       "</div>"
      ],
      "text/plain": [
       "                                                   cell_range  crime_freq  \\\n",
       "timestamp                                                                   \n",
       "2006-01-01  ((41.5487, -88.3713), (41.577144999999994, -88...           0   \n",
       "2006-01-01  ((41.5487, -88.307435), (41.577144999999994, -...           0   \n",
       "2006-01-01  ((41.5487, -88.24357), (41.577144999999994, -8...           0   \n",
       "2006-01-01  ((41.5487, -88.179705), (41.577144999999994, -...           0   \n",
       "2006-01-01  ((41.5487, -88.11584), (41.577144999999994, -8...           0   \n",
       "\n",
       "            yelp_freq  police_freq        lat       long  police_factor  \\\n",
       "timestamp                                                                 \n",
       "2006-01-01          0            0  41.562922 -88.339368   4.175852e-24   \n",
       "2006-01-01          0            0  41.562922 -88.275503   1.625700e-19   \n",
       "2006-01-01          0            0  41.562922 -88.211637   2.394447e-15   \n",
       "2006-01-01          0            0  41.562922 -88.147773   1.284389e-11   \n",
       "2006-01-01          0            0  41.562922 -88.083908   2.434802e-08   \n",
       "\n",
       "            yelp_factor  prev_day_crime_freq  prev_7_days_crime_freq  PRCP  \\\n",
       "timestamp                                                                    \n",
       "2006-01-01     0.069791                  NaN                     NaN   0.8   \n",
       "2006-01-01     1.140434                  NaN                     NaN   0.8   \n",
       "2006-01-01     7.117705                  NaN                     NaN   0.8   \n",
       "2006-01-01    15.734032                  NaN                     NaN   0.8   \n",
       "2006-01-01    11.941449                  NaN                     NaN   0.8   \n",
       "\n",
       "            SNOW  TMAX  TMIN  \n",
       "timestamp                     \n",
       "2006-01-01     0   7.2  -3.3  \n",
       "2006-01-01     0   7.2  -3.3  \n",
       "2006-01-01     0   7.2  -3.3  \n",
       "2006-01-01     0   7.2  -3.3  \n",
       "2006-01-01     0   7.2  -3.3  "
      ]
     },
     "execution_count": 26,
     "metadata": {},
     "output_type": "execute_result"
    }
   ],
   "source": [
    "%time df = pd.read_csv('features_temporal_full_year_with_weather.tsv', sep='\\t', parse_dates=['timestamp'], index_col='timestamp')\n",
    "df.head()"
   ]
  },
  {
   "cell_type": "code",
   "execution_count": 27,
   "metadata": {
    "collapsed": false
   },
   "outputs": [
    {
     "data": {
      "text/plain": [
       "Index(['cell_range', 'crime_freq', 'yelp_freq', 'police_freq', 'lat', 'long',\n",
       "       'police_factor', 'yelp_factor', 'prev_day_crime_freq',\n",
       "       'prev_7_days_crime_freq', 'PRCP', 'SNOW', 'TMAX', 'TMIN'],\n",
       "      dtype='object')"
      ]
     },
     "execution_count": 27,
     "metadata": {},
     "output_type": "execute_result"
    }
   ],
   "source": [
    "df.columns"
   ]
  },
  {
   "cell_type": "code",
   "execution_count": 28,
   "metadata": {
    "collapsed": false
   },
   "outputs": [],
   "source": [
    "df.dropna(inplace=True)"
   ]
  },
  {
   "cell_type": "markdown",
   "metadata": {},
   "source": [
    "# Training Test Defined"
   ]
  },
  {
   "cell_type": "code",
   "execution_count": 34,
   "metadata": {
    "collapsed": false
   },
   "outputs": [],
   "source": [
    "def _classifier_name(classifier):\n",
    "    \n",
    "    name = type(classifier).__name__\n",
    "    if name == 'SVC':\n",
    "        return classifier.kernel + ' ' + name\n",
    "    return name\n",
    "    \n",
    "def train_and_test(X_train, X_test, y_train, y_test, features=None, verbose=False, random_state = 4, classifiers=None):\n",
    "    def scale_columns(train, test, column_names):\n",
    "        for column_name in column_names:\n",
    "            scaler = get_scaler(train[column_name])\n",
    "            train[column_name] = scale(scaler, train[column_name])\n",
    "            test[column_name] = scale(scaler, test[column_name])\n",
    "    \n",
    "    scale_columns(X_train, X_test, features)\n",
    "    \n",
    "    test = X_test.copy() \n",
    "    test['label'] = y_test\n",
    "    \n",
    "    X_train = X_train[features]\n",
    "    X_test = X_test[features]\n",
    "    \n",
    "    # class_weight = {\n",
    "    #     1: 10,\n",
    "    #     0: 1\n",
    "    # }\n",
    "    class_weight = 'balanced'\n",
    "    \n",
    "    training_size = len(X_train.index.unique())\n",
    "    \n",
    "    if classifiers is None:\n",
    "        classifiers = [\n",
    "            DecisionTreeClassifier(max_depth=5, class_weight=class_weight, random_state=random_state),\n",
    "            RandomForestClassifier(max_depth=5, n_estimators=10, max_features=1, class_weight=class_weight, random_state=random_state),\n",
    "        ]\n",
    "        \n",
    "    report = []\n",
    "    for classifier in classifiers:\n",
    "        if verbose:\n",
    "            print('\\n')\n",
    "            print('#'*10, type(classifier).__name__, '#'*10)\n",
    "            \n",
    "        selector = RFE(classifier, 1, step=1)\n",
    "        selector = selector.fit(X_train, y_train)\n",
    "        print(pd.DataFrame({\n",
    "                'ranking': selector.ranking_,\n",
    "                'features': features\n",
    "            }))\n",
    "        "
   ]
  },
  {
   "cell_type": "markdown",
   "metadata": {},
   "source": [
    "# time series split using cross validation time series"
   ]
  },
  {
   "cell_type": "code",
   "execution_count": 35,
   "metadata": {
    "collapsed": false
   },
   "outputs": [],
   "source": [
    "def test_models(features, splits=2, verbose=False, classifiers=None):\n",
    "    if verbose:\n",
    "        print()\n",
    "        print('#'*100)\n",
    "        print('#'*10 + str(features) + '#'*10)\n",
    "        print('#'*100)\n",
    "        print()\n",
    "\n",
    "    X = df\n",
    "    y = df.crime_freq.apply(lambda x: 1 if x > 0 else 0)\n",
    "    \n",
    "    tscv = TimeSeriesSplit(n_splits=splits)\n",
    "    \n",
    "    frames = []\n",
    "    for train_index, test_index in tscv.split(X):\n",
    "        X_train, X_test = X.iloc[train_index, :], X.iloc[test_index, :]\n",
    "        y_train, y_test = y.iloc[train_index], y.iloc[test_index]\n",
    "        \n",
    "        train_start_date, train_end_date = X_train.index[0].date(), X_train.index[-1].date()\n",
    "        test_start_date, test_end_date = X_test.index[0].date(), X_test.index[-1].date()\n",
    "        training_size = len(X_train.index.unique())\n",
    "        \n",
    "        if verbose:\n",
    "            print()\n",
    "            print('>'*100)\n",
    "            print(\"Training: \", str(train_start_date), \"to\" , str(train_end_date))\n",
    "            print(\"Test: \", str(test_start_date), \"to\" , str(test_end_date))\n",
    "            print('>'*100)\n",
    "            print()\n",
    "        \n",
    "        train_and_test(X_train, X_test, y_train, y_test, features=features, verbose=verbose, classifiers=classifiers)\n",
    "        \n",
    "    return"
   ]
  },
  {
   "cell_type": "code",
   "execution_count": 36,
   "metadata": {
    "collapsed": false
   },
   "outputs": [
    {
     "name": "stdout",
     "output_type": "stream",
     "text": [
      "\n",
      "####################################################################################################\n",
      "##########['PRCP', 'SNOW', 'TMAX', 'TMIN', 'police_factor', 'yelp_factor', 'prev_day_crime_freq', 'prev_7_days_crime_freq']##########\n",
      "####################################################################################################\n",
      "\n",
      "\n",
      ">>>>>>>>>>>>>>>>>>>>>>>>>>>>>>>>>>>>>>>>>>>>>>>>>>>>>>>>>>>>>>>>>>>>>>>>>>>>>>>>>>>>>>>>>>>>>>>>>>>>\n",
      "Training:  2006-01-02 to 2006-05-03\n",
      "Test:  2006-05-03 to 2006-09-01\n",
      ">>>>>>>>>>>>>>>>>>>>>>>>>>>>>>>>>>>>>>>>>>>>>>>>>>>>>>>>>>>>>>>>>>>>>>>>>>>>>>>>>>>>>>>>>>>>>>>>>>>>\n",
      "\n",
      "\n",
      "\n",
      "########## DecisionTreeClassifier ##########\n",
      "                 features  ranking\n",
      "0                    PRCP        4\n",
      "1                    SNOW        8\n",
      "2                    TMAX        5\n",
      "3                    TMIN        7\n",
      "4           police_factor        2\n",
      "5             yelp_factor        3\n",
      "6     prev_day_crime_freq        6\n",
      "7  prev_7_days_crime_freq        1\n",
      "\n",
      "\n",
      "########## RandomForestClassifier ##########\n",
      "                 features  ranking\n",
      "0                    PRCP        7\n",
      "1                    SNOW        8\n",
      "2                    TMAX        6\n",
      "3                    TMIN        5\n",
      "4           police_factor        4\n",
      "5             yelp_factor        3\n",
      "6     prev_day_crime_freq        2\n",
      "7  prev_7_days_crime_freq        1\n",
      "\n",
      ">>>>>>>>>>>>>>>>>>>>>>>>>>>>>>>>>>>>>>>>>>>>>>>>>>>>>>>>>>>>>>>>>>>>>>>>>>>>>>>>>>>>>>>>>>>>>>>>>>>>\n",
      "Training:  2006-01-02 to 2006-09-01\n",
      "Test:  2006-09-01 to 2006-12-31\n",
      ">>>>>>>>>>>>>>>>>>>>>>>>>>>>>>>>>>>>>>>>>>>>>>>>>>>>>>>>>>>>>>>>>>>>>>>>>>>>>>>>>>>>>>>>>>>>>>>>>>>>\n",
      "\n",
      "\n",
      "\n",
      "########## DecisionTreeClassifier ##########\n",
      "                 features  ranking\n",
      "0                    PRCP        7\n",
      "1                    SNOW        6\n",
      "2                    TMAX        5\n",
      "3                    TMIN        4\n",
      "4           police_factor        2\n",
      "5             yelp_factor        3\n",
      "6     prev_day_crime_freq        8\n",
      "7  prev_7_days_crime_freq        1\n",
      "\n",
      "\n",
      "########## RandomForestClassifier ##########\n",
      "                 features  ranking\n",
      "0                    PRCP        7\n",
      "1                    SNOW        8\n",
      "2                    TMAX        6\n",
      "3                    TMIN        5\n",
      "4           police_factor        4\n",
      "5             yelp_factor        3\n",
      "6     prev_day_crime_freq        2\n",
      "7  prev_7_days_crime_freq        1\n"
     ]
    }
   ],
   "source": [
    "class_weight=\"balanced\"\n",
    "random_state=4\n",
    "\n",
    "classifiers = [\n",
    "#         KNeighborsClassifier(n_neighbors=5),\n",
    "#         SVC(kernel=\"linear\", C=0.025, class_weight=class_weight, random_state=random_state),\n",
    "#         SVC(gamma=2, C=1, class_weight=class_weight, random_state=random_state),\n",
    "#         GaussianProcessClassifier(1.0 * RBF(1.0), warm_start=True),\n",
    "        DecisionTreeClassifier(max_depth=5, class_weight=class_weight, random_state=random_state),\n",
    "        RandomForestClassifier(max_depth=5, n_estimators=10, max_features=1, class_weight=class_weight, random_state=random_state),\n",
    "#         MLPClassifier(alpha=1, random_state=random_state),\n",
    "#         AdaBoostClassifier(random_state=random_state),\n",
    "#         GaussianNB(),\n",
    "#         QuadraticDiscriminantAnalysis()\n",
    "        ]\n",
    "\n",
    "features = [\n",
    "    'PRCP', \n",
    "    'SNOW', \n",
    "    'TMAX', \n",
    "    'TMIN',\n",
    "#     'crime_freq', \n",
    "#      'yelp_freq', \n",
    "#      'police_freq', \n",
    "     'police_factor', \n",
    "#     'crime_factor', \n",
    "    'yelp_factor', \n",
    "    'prev_day_crime_freq',\n",
    "    'prev_7_days_crime_freq'\n",
    "]\n",
    "\n",
    "test_models(features, classifiers=classifiers, splits=2, verbose=True)"
   ]
  },
  {
   "cell_type": "code",
   "execution_count": 23,
   "metadata": {
    "collapsed": false
   },
   "outputs": [
    {
     "ename": "NameError",
     "evalue": "name 'report_df' is not defined",
     "output_type": "error",
     "traceback": [
      "\u001b[1;31m---------------------------------------------------------------------------\u001b[0m",
      "\u001b[1;31mNameError\u001b[0m                                 Traceback (most recent call last)",
      "\u001b[1;32m<ipython-input-23-f48982fcb42c>\u001b[0m in \u001b[0;36m<module>\u001b[1;34m()\u001b[0m\n\u001b[1;32m----> 1\u001b[1;33m \u001b[0mreport_df\u001b[0m\u001b[1;33m\u001b[0m\u001b[0m\n\u001b[0m\u001b[0;32m      2\u001b[0m \u001b[1;31m# report_df.to_csv('Jan_2_split_classification_report.tsv', sep='\\t', index=False)\u001b[0m\u001b[1;33m\u001b[0m\u001b[1;33m\u001b[0m\u001b[0m\n",
      "\u001b[1;31mNameError\u001b[0m: name 'report_df' is not defined"
     ]
    }
   ],
   "source": [
    "report_df\n",
    "# report_df.to_csv('Jan_2_split_classification_report.tsv', sep='\\t', index=False)"
   ]
  },
  {
   "cell_type": "code",
   "execution_count": 316,
   "metadata": {
    "collapsed": true
   },
   "outputs": [
    {
     "data": {
      "image/png": "[encoded data removed]",
      "text/plain": [
       "<matplotlib.figure.Figure at 0x7fbcb0f3e9b0>"
      ]
     },
     "metadata": {},
     "output_type": "display_data"
    },
    {
     "data": {
      "image/png": "[encoded data removed]",
      "text/plain": [
       "<matplotlib.figure.Figure at 0x7fbcb0f3e438>"
      ]
     },
     "metadata": {},
     "output_type": "display_data"
    },
    {
     "data": {
      "image/png": "[encoded data removed]",
      "text/plain": [
       "<matplotlib.figure.Figure at 0x7fbcb0c89828>"
      ]
     },
     "metadata": {},
     "output_type": "display_data"
    },
    {
     "data": {
      "image/png": "[encoded data removed]",
      "text/plain": [
       "<matplotlib.figure.Figure at 0x7fbcb0e5e160>"
      ]
     },
     "metadata": {},
     "output_type": "display_data"
    }
   ],
   "source": [
    "classifiers = [\n",
    "        KNeighborsClassifier(n_neighbors=5),\n",
    "#         SVC(kernel=\"linear\", C=0.025, class_weight=class_weight, random_state=random_state),\n",
    "#         SVC(gamma=2, C=1, class_weight=class_weight, random_state=random_state),\n",
    "#         GaussianProcessClassifier(1.0 * RBF(1.0), warm_start=True),\n",
    "        DecisionTreeClassifier(max_depth=5, class_weight=class_weight, random_state=random_state),\n",
    "        RandomForestClassifier(max_depth=5, n_estimators=10, max_features=1, class_weight=class_weight, random_state=random_state),\n",
    "#         MLPClassifier(alpha=1, random_state=random_state),\n",
    "#         AdaBoostClassifier(random_state=random_state),\n",
    "#         GaussianNB(),\n",
    "#         QuadraticDiscriminantAnalysis()\n",
    "        ]\n",
    "\n",
    "features = [\n",
    "#     'PRCP', \n",
    "#     'SNOW', \n",
    "#     'TMAX', \n",
    "#     'TMIN',\n",
    "#     'crime_freq', \n",
    "#      'yelp_freq', \n",
    "#      'police_freq', \n",
    "     'police_factor', \n",
    "#     'crime_factor', \n",
    "    'yelp_factor', \n",
    "    'prev_day_crime_freq',\n",
    "#     'prev_7_days_crime_freq'\n",
    "]\n",
    "\n",
    "report_df = test_models(features, classifiers=classifiers, splits=2, verbose=False)\n",
    "ax = report_df[['classifier', \n",
    "            'accuracy_score', \n",
    "            'recall_score', \n",
    "            'precision_score', \n",
    "            'f1_score', \n",
    "            'auc']].groupby(by=['classifier']).mean().plot(rot=90)\n",
    "\n",
    "for classifier in report_df.classifier.unique():\n",
    "    ax = report_df[report_df.classifier == classifier].groupby(by=['training_size']).mean().plot(title=classifier)\n",
    "    ax.xaxis.set_ticks(report_df.training_size.unique())\n"
   ]
  },
  {
   "cell_type": "code",
   "execution_count": null,
   "metadata": {
    "collapsed": true
   },
   "outputs": [],
   "source": []
  }
 ],
 "metadata": {
  "kernelspec": {
   "display_name": "Python 3",
   "language": "python",
   "name": "python3"
  },
  "language_info": {
   "codemirror_mode": {
    "name": "ipython",
    "version": 3
   },
   "file_extension": ".py",
   "mimetype": "text/x-python",
   "name": "python",
   "nbconvert_exporter": "python",
   "pygments_lexer": "ipython3",
   "version": "3.5.2"
  }
 },
 "nbformat": 4,
 "nbformat_minor": 0
}
