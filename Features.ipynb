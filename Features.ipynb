{
 "cells": [
  {
   "cell_type": "code",
   "execution_count": 1,
   "metadata": {
    "collapsed": true
   },
   "outputs": [],
   "source": [
    "%matplotlib inline\n",
    "import pandas as pd\n",
    "from sklearn.tree import DecisionTreeClassifier\n",
    "from sklearn import metrics\n",
    "import numpy as np\n",
    "from time import time\n",
    "import matplotlib.pyplot as plt\n",
    "from sklearn.datasets.species_distributions import construct_grids\n",
    "from sklearn.neighbors import KernelDensity\n",
    "from sklearn import preprocessing\n",
    "import itertools\n",
    "import datetime\n",
    "\n",
    "from mpl_toolkits.basemap import Basemap\n",
    "\n",
    "def parse_location(loc):\n",
    "    loc = loc.strip(\"()\").split(',')\n",
    "    lat = loc[0].strip()\n",
    "    long = loc[1].strip()\n",
    "    return float(lat), float(long)"
   ]
  },
  {
   "cell_type": "code",
   "execution_count": 2,
   "metadata": {
    "collapsed": true
   },
   "outputs": [],
   "source": [
    "def get_yelp_data():\n",
    "    df = pd.read_csv('../data/weather_police_traffic_yelp_crime_data.csv', parse_dates=['timestamp'])\n",
    "    return df[df.yelp == 1][['lat', 'long']].drop_duplicates().reset_index()[['lat', 'long']]\n",
    "\n",
    "def get_police_station_data():\n",
    "    df = pd.read_csv('../data/weather_police_traffic_yelp_crime_data.csv', parse_dates=['timestamp'])\n",
    "    return df[df.police_station == 1][['lat', 'long']].drop_duplicates().reset_index()[['lat', 'long']]\n",
    "\n",
    "def get_crime_data_for_year(year):\n",
    "    crime_data = pd.read_csv(\"../data/Preprocessed_Crime_Data_%s.csv\"%year, parse_dates=['Date'], usecols=[\"Date\",\"IUCR\",\"Location\"])\n",
    "    crime_data['lat']  = crime_data.Location.apply(lambda x: parse_location(x)[0])\n",
    "    crime_data['long']  = crime_data.Location.apply(lambda x: parse_location(x)[1])\n",
    "    del crime_data[\"Location\"]\n",
    "    crime_data.rename(columns={\"Date\":\"timestamp\"}, inplace=True)\n",
    "    crime_data['timestamp'] = crime_data.timestamp.apply(lambda x: x.date())\n",
    "    return crime_data\n",
    "\n",
    "def get_weather_data_for_year(year):\n",
    "    weather_data = pd.read_csv(\"../data/PreProcessed_Weather_Data_%s.csv\"%year)\n",
    "    weather_data.rename(columns={\"Weather_Date\":\"timestamp\"}, inplace=True)\n",
    "    return weather_data"
   ]
  },
  {
   "cell_type": "code",
   "execution_count": 3,
   "metadata": {
    "collapsed": true
   },
   "outputs": [],
   "source": [
    "def get_normalizer(column):\n",
    "    X = np.array(column).reshape(column.shape[0], 1)\n",
    "    return preprocessing.Normalizer().fit(X)\n",
    "\n",
    "def normalize(df, column_name):\n",
    "    X = np.array(df[column_name]).reshape(df[column_name].shape[0], 1)\n",
    "    return get_normalizer(df[column_name]).transform(X)\n",
    "\n",
    "def get_scaler(column):\n",
    "    X = np.array(column).reshape(column.shape[0], 1)\n",
    "    return preprocessing.MinMaxScaler().fit(X)\n",
    "\n",
    "def scale(df, column_name):\n",
    "    X = np.array(df[column_name]).reshape(df[column_name].shape[0], 1)\n",
    "    return get_scaler(df[column_name]).transform(X)\n",
    "\n",
    "def normalize_columns(df, column_names):\n",
    "    for column_name in column_names:\n",
    "        df['%s_norm' % column_name] = normalize(df, column_name)\n",
    "        \n",
    "def scale_columns(df, column_names):\n",
    "    for column_name in column_names:\n",
    "        df['%s_scaled' % column_name] = scale(df, column_name)"
   ]
  },
  {
   "cell_type": "code",
   "execution_count": 4,
   "metadata": {
    "collapsed": true
   },
   "outputs": [],
   "source": [
    "def get_locations(df, metric='radians', drop_duplicates=True):\n",
    "    if drop_duplicates:\n",
    "        locations_df = df[['lat','long']].drop_duplicates()\n",
    "    else:\n",
    "        locations_df = df[['lat','long']]\n",
    "    locations_array = np.vstack([locations_df['lat'],locations_df['long']]).T\n",
    "    if metric == 'radians':\n",
    "        locations_array *= np.pi / 180.  # Convert lat/long to radians\n",
    "    return locations_array\n",
    "\n",
    "def get_kde(df, drop_duplicates=True, bandwidth=0.00025, rtol=1E-8):\n",
    "    locations = get_locations(df, drop_duplicates=drop_duplicates)\n",
    "    #KDE initialization\n",
    "    kde = KernelDensity(bandwidth=bandwidth, metric='haversine', kernel='gaussian', algorithm='ball_tree', rtol=rtol)\n",
    "    #fit with given location\n",
    "#     print(locations.shape, drop_duplicates)\n",
    "    kde.fit(locations)\n",
    "    return kde\n",
    "\n",
    "def get_weights(df, kernel, metric='radians', lat_label='lat', long_label='long'):\n",
    "    locations_array = np.vstack([df[lat_label], df[long_label]]).T\n",
    "    if metric == 'radians':\n",
    "        locations_array *= np.pi / 180.  # Convert lat/long to radians\n",
    "    if kernel == None:\n",
    "        return None\n",
    "    else:\n",
    "        return np.exp(kernel.score_samples(locations_array))"
   ]
  },
  {
   "cell_type": "code",
   "execution_count": 5,
   "metadata": {
    "collapsed": false
   },
   "outputs": [
    {
     "name": "stderr",
     "output_type": "stream",
     "text": [
      "/home/adb/anaconda3/lib/python3.5/site-packages/IPython/core/magic.py:193: DtypeWarning: Columns (10,11) have mixed types. Specify dtype option on import or set low_memory=False.\n",
      "  call = lambda f, *a, **k: f(*a, **k)\n",
      "/home/adb/anaconda3/lib/python3.5/site-packages/IPython/core/magic.py:193: DtypeWarning: Columns (10,11) have mixed types. Specify dtype option on import or set low_memory=False.\n",
      "  call = lambda f, *a, **k: f(*a, **k)\n"
     ]
    },
    {
     "name": "stdout",
     "output_type": "stream",
     "text": [
      "CPU times: user 13.5 s, sys: 160 ms, total: 13.6 s\n",
      "Wall time: 13.6 s\n",
      "CPU times: user 8.76 s, sys: 220 ms, total: 8.98 s\n",
      "Wall time: 8.98 s\n",
      "CPU times: user 1min 9s, sys: 0 ns, total: 1min 9s\n",
      "Wall time: 1min 9s\n",
      "CPU times: user 4 ms, sys: 0 ns, total: 4 ms\n",
      "Wall time: 3.64 ms\n"
     ]
    }
   ],
   "source": [
    "%time yelp_df = get_yelp_data()\n",
    "%time police_df = get_police_station_data()\n",
    "%time crime_df = get_crime_data_for_year(2006)\n",
    "%time weather_df = get_weather_data_for_year(2006)"
   ]
  },
  {
   "cell_type": "code",
   "execution_count": 6,
   "metadata": {
    "collapsed": false
   },
   "outputs": [
    {
     "data": {
      "text/html": [
       "<div>\n",
       "<table border=\"1\" class=\"dataframe\">\n",
       "  <thead>\n",
       "    <tr style=\"text-align: right;\">\n",
       "      <th></th>\n",
       "      <th>crime_freq</th>\n",
       "      <th>yelp_freq</th>\n",
       "      <th>police_freq</th>\n",
       "    </tr>\n",
       "  </thead>\n",
       "  <tbody>\n",
       "    <tr>\n",
       "      <th>count</th>\n",
       "      <td>912500.000000</td>\n",
       "      <td>912500.00000</td>\n",
       "      <td>912500.000000</td>\n",
       "    </tr>\n",
       "    <tr>\n",
       "      <th>mean</th>\n",
       "      <td>0.488268</td>\n",
       "      <td>5.17560</td>\n",
       "      <td>0.009200</td>\n",
       "    </tr>\n",
       "    <tr>\n",
       "      <th>std</th>\n",
       "      <td>2.139128</td>\n",
       "      <td>34.54762</td>\n",
       "      <td>0.095474</td>\n",
       "    </tr>\n",
       "    <tr>\n",
       "      <th>min</th>\n",
       "      <td>0.000000</td>\n",
       "      <td>0.00000</td>\n",
       "      <td>0.000000</td>\n",
       "    </tr>\n",
       "    <tr>\n",
       "      <th>25%</th>\n",
       "      <td>0.000000</td>\n",
       "      <td>0.00000</td>\n",
       "      <td>0.000000</td>\n",
       "    </tr>\n",
       "    <tr>\n",
       "      <th>50%</th>\n",
       "      <td>0.000000</td>\n",
       "      <td>0.00000</td>\n",
       "      <td>0.000000</td>\n",
       "    </tr>\n",
       "    <tr>\n",
       "      <th>75%</th>\n",
       "      <td>0.000000</td>\n",
       "      <td>0.00000</td>\n",
       "      <td>0.000000</td>\n",
       "    </tr>\n",
       "    <tr>\n",
       "      <th>max</th>\n",
       "      <td>63.000000</td>\n",
       "      <td>957.00000</td>\n",
       "      <td>1.000000</td>\n",
       "    </tr>\n",
       "  </tbody>\n",
       "</table>\n",
       "</div>"
      ],
      "text/plain": [
       "          crime_freq     yelp_freq    police_freq\n",
       "count  912500.000000  912500.00000  912500.000000\n",
       "mean        0.488268       5.17560       0.009200\n",
       "std         2.139128      34.54762       0.095474\n",
       "min         0.000000       0.00000       0.000000\n",
       "25%         0.000000       0.00000       0.000000\n",
       "50%         0.000000       0.00000       0.000000\n",
       "75%         0.000000       0.00000       0.000000\n",
       "max        63.000000     957.00000       1.000000"
      ]
     },
     "execution_count": 6,
     "metadata": {},
     "output_type": "execute_result"
    }
   ],
   "source": [
    "df = pd.read_csv('grids_full_year_2500_v2.tsv', sep='\\t')\n",
    "df.describe()"
   ]
  },
  {
   "cell_type": "markdown",
   "metadata": {},
   "source": [
    "# Adding KDE based spatial features"
   ]
  },
  {
   "cell_type": "code",
   "execution_count": 7,
   "metadata": {
    "collapsed": false
   },
   "outputs": [
    {
     "data": {
      "text/html": [
       "<div>\n",
       "<table border=\"1\" class=\"dataframe\">\n",
       "  <thead>\n",
       "    <tr style=\"text-align: right;\">\n",
       "      <th></th>\n",
       "      <th>cell_range</th>\n",
       "      <th>timestamp</th>\n",
       "      <th>crime_freq</th>\n",
       "      <th>yelp_freq</th>\n",
       "      <th>police_freq</th>\n",
       "      <th>lat</th>\n",
       "      <th>long</th>\n",
       "    </tr>\n",
       "  </thead>\n",
       "  <tbody>\n",
       "    <tr>\n",
       "      <th>0</th>\n",
       "      <td>((41.5487, -88.3713), (41.560078, -88.345754))</td>\n",
       "      <td>2006-01-01</td>\n",
       "      <td>0</td>\n",
       "      <td>0</td>\n",
       "      <td>0</td>\n",
       "      <td>41.554389</td>\n",
       "      <td>-88.358527</td>\n",
       "    </tr>\n",
       "    <tr>\n",
       "      <th>1</th>\n",
       "      <td>((41.5487, -88.345754), (41.560078, -88.320208...</td>\n",
       "      <td>2006-01-01</td>\n",
       "      <td>0</td>\n",
       "      <td>0</td>\n",
       "      <td>0</td>\n",
       "      <td>41.554389</td>\n",
       "      <td>-88.332981</td>\n",
       "    </tr>\n",
       "    <tr>\n",
       "      <th>2</th>\n",
       "      <td>((41.5487, -88.32020800000001), (41.560078, -8...</td>\n",
       "      <td>2006-01-01</td>\n",
       "      <td>0</td>\n",
       "      <td>0</td>\n",
       "      <td>0</td>\n",
       "      <td>41.554389</td>\n",
       "      <td>-88.307435</td>\n",
       "    </tr>\n",
       "    <tr>\n",
       "      <th>3</th>\n",
       "      <td>((41.5487, -88.294662), (41.560078, -88.269116...</td>\n",
       "      <td>2006-01-01</td>\n",
       "      <td>0</td>\n",
       "      <td>0</td>\n",
       "      <td>0</td>\n",
       "      <td>41.554389</td>\n",
       "      <td>-88.281889</td>\n",
       "    </tr>\n",
       "    <tr>\n",
       "      <th>4</th>\n",
       "      <td>((41.5487, -88.26911600000001), (41.560078, -8...</td>\n",
       "      <td>2006-01-01</td>\n",
       "      <td>0</td>\n",
       "      <td>0</td>\n",
       "      <td>0</td>\n",
       "      <td>41.554389</td>\n",
       "      <td>-88.256343</td>\n",
       "    </tr>\n",
       "  </tbody>\n",
       "</table>\n",
       "</div>"
      ],
      "text/plain": [
       "                                          cell_range   timestamp  crime_freq  \\\n",
       "0     ((41.5487, -88.3713), (41.560078, -88.345754))  2006-01-01           0   \n",
       "1  ((41.5487, -88.345754), (41.560078, -88.320208...  2006-01-01           0   \n",
       "2  ((41.5487, -88.32020800000001), (41.560078, -8...  2006-01-01           0   \n",
       "3  ((41.5487, -88.294662), (41.560078, -88.269116...  2006-01-01           0   \n",
       "4  ((41.5487, -88.26911600000001), (41.560078, -8...  2006-01-01           0   \n",
       "\n",
       "   yelp_freq  police_freq        lat       long  \n",
       "0          0            0  41.554389 -88.358527  \n",
       "1          0            0  41.554389 -88.332981  \n",
       "2          0            0  41.554389 -88.307435  \n",
       "3          0            0  41.554389 -88.281889  \n",
       "4          0            0  41.554389 -88.256343  "
      ]
     },
     "execution_count": 7,
     "metadata": {},
     "output_type": "execute_result"
    }
   ],
   "source": [
    "def parse_location(loc):\n",
    "    loc = loc.strip(\"()\").split(',')\n",
    "    lat = loc[0].strip()\n",
    "    long = loc[1].strip()\n",
    "    return float(lat), float(long)\n",
    "\n",
    "def parse_cell_range(loc):\n",
    "    loc = loc.strip(\"()\").split('), (')\n",
    "    ll = parse_location(loc[0].strip())\n",
    "    ur = parse_location(loc[1].strip())\n",
    "    return tuple(ll), tuple(ur)\n",
    "\n",
    "df['lat'] = df.cell_range.apply(lambda x: (parse_cell_range(x)[0][0]+parse_cell_range(x)[1][0])/2)\n",
    "df['long'] = df.cell_range.apply(lambda x: (parse_cell_range(x)[0][1]+parse_cell_range(x)[1][1])/2)\n",
    "df.head()"
   ]
  },
  {
   "cell_type": "code",
   "execution_count": 8,
   "metadata": {
    "collapsed": false
   },
   "outputs": [
    {
     "name": "stdout",
     "output_type": "stream",
     "text": [
      "CPU times: user 13.1 s, sys: 0 ns, total: 13.1 s\n",
      "Wall time: 13.1 s\n"
     ]
    }
   ],
   "source": [
    "%time df['police_factor'] = get_weights(df, get_kde(police_df, bandwidth=0.0008))"
   ]
  },
  {
   "cell_type": "code",
   "execution_count": 9,
   "metadata": {
    "collapsed": false
   },
   "outputs": [
    {
     "name": "stdout",
     "output_type": "stream",
     "text": [
      "CPU times: user 22min 35s, sys: 892 ms, total: 22min 36s\n",
      "Wall time: 22min 34s\n"
     ]
    }
   ],
   "source": [
    "%time df['yelp_factor'] = get_weights(df, get_kde(yelp_df, bandwidth=0.0008, drop_duplicates=False))"
   ]
  },
  {
   "cell_type": "code",
   "execution_count": 10,
   "metadata": {
    "collapsed": false
   },
   "outputs": [],
   "source": [
    "# %time crime_kde = get_kde(crime_df, bandwidth=0.0008, drop_duplicates=False)"
   ]
  },
  {
   "cell_type": "code",
   "execution_count": 11,
   "metadata": {
    "collapsed": false
   },
   "outputs": [],
   "source": [
    "# %time get_weights(df.head(), crime_kde)"
   ]
  },
  {
   "cell_type": "code",
   "execution_count": 12,
   "metadata": {
    "collapsed": false
   },
   "outputs": [],
   "source": [
    "# %time df['crime_factor'] = get_weights(df, crime_kde)"
   ]
  },
  {
   "cell_type": "code",
   "execution_count": 18,
   "metadata": {
    "collapsed": false
   },
   "outputs": [
    {
     "name": "stdout",
     "output_type": "stream",
     "text": [
      "hi\n"
     ]
    }
   ],
   "source": [
    "print('hi')"
   ]
  },
  {
   "cell_type": "code",
   "execution_count": 19,
   "metadata": {
    "collapsed": false
   },
   "outputs": [
    {
     "name": "stdout",
     "output_type": "stream",
     "text": [
      "CPU times: user 18.1 s, sys: 88 ms, total: 18.2 s\n",
      "Wall time: 19.5 s\n",
      "CPU times: user 1.91 s, sys: 20 ms, total: 1.93 s\n",
      "Wall time: 1.93 s\n"
     ]
    }
   ],
   "source": [
    "%time df.to_csv('features_full_year_2500.tsv', sep='\\t', index=False)\n",
    "%time df = pd.read_csv('features_full_year_2500.tsv', sep='\\t', parse_dates=['timestamp'])"
   ]
  },
  {
   "cell_type": "markdown",
   "metadata": {},
   "source": [
    "# Adding temporal features"
   ]
  },
  {
   "cell_type": "code",
   "execution_count": 21,
   "metadata": {
    "collapsed": false
   },
   "outputs": [
    {
     "data": {
      "text/html": [
       "<div>\n",
       "<table border=\"1\" class=\"dataframe\">\n",
       "  <thead>\n",
       "    <tr style=\"text-align: right;\">\n",
       "      <th></th>\n",
       "      <th>cell_range</th>\n",
       "      <th>timestamp</th>\n",
       "      <th>crime_freq</th>\n",
       "      <th>yelp_freq</th>\n",
       "      <th>police_freq</th>\n",
       "      <th>lat</th>\n",
       "      <th>long</th>\n",
       "      <th>police_factor</th>\n",
       "      <th>yelp_factor</th>\n",
       "    </tr>\n",
       "  </thead>\n",
       "  <tbody>\n",
       "    <tr>\n",
       "      <th>912495</th>\n",
       "      <td>((42.106222, -87.22173), (42.1176, -87.1961839...</td>\n",
       "      <td>2006-12-31</td>\n",
       "      <td>0</td>\n",
       "      <td>0</td>\n",
       "      <td>0</td>\n",
       "      <td>42.111911</td>\n",
       "      <td>-87.208957</td>\n",
       "      <td>4.879026e-10</td>\n",
       "      <td>1.166006e-09</td>\n",
       "    </tr>\n",
       "    <tr>\n",
       "      <th>912496</th>\n",
       "      <td>((42.106222, -87.19618399999999), (42.1176, -8...</td>\n",
       "      <td>2006-12-31</td>\n",
       "      <td>0</td>\n",
       "      <td>0</td>\n",
       "      <td>0</td>\n",
       "      <td>42.111911</td>\n",
       "      <td>-87.183411</td>\n",
       "      <td>2.087249e-11</td>\n",
       "      <td>1.626442e-10</td>\n",
       "    </tr>\n",
       "    <tr>\n",
       "      <th>912497</th>\n",
       "      <td>((42.106222, -87.170638), (42.1176, -87.145091...</td>\n",
       "      <td>2006-12-31</td>\n",
       "      <td>0</td>\n",
       "      <td>0</td>\n",
       "      <td>0</td>\n",
       "      <td>42.111911</td>\n",
       "      <td>-87.157865</td>\n",
       "      <td>7.554142e-13</td>\n",
       "      <td>2.534506e-13</td>\n",
       "    </tr>\n",
       "    <tr>\n",
       "      <th>912498</th>\n",
       "      <td>((42.106222, -87.14509199999999), (42.1176, -8...</td>\n",
       "      <td>2006-12-31</td>\n",
       "      <td>0</td>\n",
       "      <td>0</td>\n",
       "      <td>0</td>\n",
       "      <td>42.111911</td>\n",
       "      <td>-87.132319</td>\n",
       "      <td>2.313308e-14</td>\n",
       "      <td>5.294079e-11</td>\n",
       "    </tr>\n",
       "    <tr>\n",
       "      <th>912499</th>\n",
       "      <td>((42.106222, -87.119546), (42.1176, -87.094))</td>\n",
       "      <td>2006-12-31</td>\n",
       "      <td>0</td>\n",
       "      <td>0</td>\n",
       "      <td>0</td>\n",
       "      <td>42.111911</td>\n",
       "      <td>-87.106773</td>\n",
       "      <td>5.994916e-16</td>\n",
       "      <td>1.012007e-15</td>\n",
       "    </tr>\n",
       "  </tbody>\n",
       "</table>\n",
       "</div>"
      ],
      "text/plain": [
       "                                               cell_range  timestamp  \\\n",
       "912495  ((42.106222, -87.22173), (42.1176, -87.1961839... 2006-12-31   \n",
       "912496  ((42.106222, -87.19618399999999), (42.1176, -8... 2006-12-31   \n",
       "912497  ((42.106222, -87.170638), (42.1176, -87.145091... 2006-12-31   \n",
       "912498  ((42.106222, -87.14509199999999), (42.1176, -8... 2006-12-31   \n",
       "912499      ((42.106222, -87.119546), (42.1176, -87.094)) 2006-12-31   \n",
       "\n",
       "        crime_freq  yelp_freq  police_freq        lat       long  \\\n",
       "912495           0          0            0  42.111911 -87.208957   \n",
       "912496           0          0            0  42.111911 -87.183411   \n",
       "912497           0          0            0  42.111911 -87.157865   \n",
       "912498           0          0            0  42.111911 -87.132319   \n",
       "912499           0          0            0  42.111911 -87.106773   \n",
       "\n",
       "        police_factor   yelp_factor  \n",
       "912495   4.879026e-10  1.166006e-09  \n",
       "912496   2.087249e-11  1.626442e-10  \n",
       "912497   7.554142e-13  2.534506e-13  \n",
       "912498   2.313308e-14  5.294079e-11  \n",
       "912499   5.994916e-16  1.012007e-15  "
      ]
     },
     "execution_count": 21,
     "metadata": {},
     "output_type": "execute_result"
    }
   ],
   "source": [
    "df.tail()"
   ]
  },
  {
   "cell_type": "code",
   "execution_count": 23,
   "metadata": {
    "collapsed": true
   },
   "outputs": [],
   "source": [
    "def get_previous_day_crime_freq(self, main_df):\n",
    "    prev_day = main_df[main_df.cell_range == self.cell_range][main_df.timestamp == \\\n",
    "                                                              (self.timestamp - datetime.timedelta(1))]['crime_freq']\n",
    "    if prev_day.empty:\n",
    "        return None\n",
    "    else:\n",
    "        return prev_day.values[0]\n",
    "    \n",
    "    \n",
    "def get_previous_k_days_crime_freq(self, main_df, k):\n",
    "    prev_day = main_df[main_df.cell_range == self.cell_range]\\\n",
    "                [main_df.timestamp >= (self.timestamp - datetime.timedelta(k))]\\\n",
    "                        [main_df.timestamp < self.timestamp]['crime_freq']\n",
    "    if prev_day.empty:\n",
    "        return None\n",
    "    else:\n",
    "        return prev_day.mean()"
   ]
  },
  {
   "cell_type": "code",
   "execution_count": 25,
   "metadata": {
    "collapsed": false
   },
   "outputs": [],
   "source": [
    "# %time df['prev_day_crime_freq'] = df.apply(lambda x: get_previous_day_crime_freq(x, df), axis=1)\n",
    "# %time df['prev_7_days_crime_freq'] = df.apply(lambda x: get_previous_k_days_crime_freq(x, df,7), axis=1)"
   ]
  },
  {
   "cell_type": "code",
   "execution_count": null,
   "metadata": {
    "collapsed": false
   },
   "outputs": [],
   "source": [
    "# %time df.to_csv('features_temporal_full_year_2500.tsv', sep='\\t', index=False)"
   ]
  },
  {
   "cell_type": "code",
   "execution_count": 35,
   "metadata": {
    "collapsed": false
   },
   "outputs": [
    {
     "data": {
      "text/html": [
       "<div>\n",
       "<table border=\"1\" class=\"dataframe\">\n",
       "  <thead>\n",
       "    <tr style=\"text-align: right;\">\n",
       "      <th></th>\n",
       "      <th>crime_freq</th>\n",
       "      <th>yelp_freq</th>\n",
       "      <th>police_freq</th>\n",
       "      <th>lat</th>\n",
       "      <th>long</th>\n",
       "      <th>police_factor</th>\n",
       "      <th>yelp_factor</th>\n",
       "      <th>avg_one_week</th>\n",
       "      <th>prev_day_crime</th>\n",
       "    </tr>\n",
       "  </thead>\n",
       "  <tbody>\n",
       "    <tr>\n",
       "      <th>count</th>\n",
       "      <td>912500.000000</td>\n",
       "      <td>912500.00000</td>\n",
       "      <td>912500.000000</td>\n",
       "      <td>912500.000000</td>\n",
       "      <td>912500.000000</td>\n",
       "      <td>9.125000e+05</td>\n",
       "      <td>9.125000e+05</td>\n",
       "      <td>895000.000000</td>\n",
       "      <td>910000.000000</td>\n",
       "    </tr>\n",
       "    <tr>\n",
       "      <th>mean</th>\n",
       "      <td>0.488268</td>\n",
       "      <td>5.17560</td>\n",
       "      <td>0.009200</td>\n",
       "      <td>41.833038</td>\n",
       "      <td>-87.720383</td>\n",
       "      <td>6.612750e+03</td>\n",
       "      <td>6.611821e+03</td>\n",
       "      <td>0.488941</td>\n",
       "      <td>0.488588</td>\n",
       "    </tr>\n",
       "    <tr>\n",
       "      <th>std</th>\n",
       "      <td>2.139128</td>\n",
       "      <td>34.54762</td>\n",
       "      <td>0.095474</td>\n",
       "      <td>0.164193</td>\n",
       "      <td>0.357876</td>\n",
       "      <td>1.559998e+04</td>\n",
       "      <td>1.866010e+04</td>\n",
       "      <td>2.009222</td>\n",
       "      <td>2.140379</td>\n",
       "    </tr>\n",
       "    <tr>\n",
       "      <th>min</th>\n",
       "      <td>0.000000</td>\n",
       "      <td>0.00000</td>\n",
       "      <td>0.000000</td>\n",
       "      <td>41.554389</td>\n",
       "      <td>-88.358527</td>\n",
       "      <td>7.041843e-26</td>\n",
       "      <td>1.012007e-15</td>\n",
       "      <td>0.000000</td>\n",
       "      <td>0.000000</td>\n",
       "    </tr>\n",
       "    <tr>\n",
       "      <th>25%</th>\n",
       "      <td>0.000000</td>\n",
       "      <td>0.00000</td>\n",
       "      <td>0.000000</td>\n",
       "      <td>41.690925</td>\n",
       "      <td>-88.026429</td>\n",
       "      <td>2.674969e-06</td>\n",
       "      <td>2.056975e+00</td>\n",
       "      <td>0.000000</td>\n",
       "      <td>0.000000</td>\n",
       "    </tr>\n",
       "    <tr>\n",
       "      <th>50%</th>\n",
       "      <td>0.000000</td>\n",
       "      <td>0.00000</td>\n",
       "      <td>0.000000</td>\n",
       "      <td>41.830306</td>\n",
       "      <td>-87.726264</td>\n",
       "      <td>1.873981e+00</td>\n",
       "      <td>3.309285e+01</td>\n",
       "      <td>0.000000</td>\n",
       "      <td>0.000000</td>\n",
       "    </tr>\n",
       "    <tr>\n",
       "      <th>75%</th>\n",
       "      <td>0.000000</td>\n",
       "      <td>0.00000</td>\n",
       "      <td>0.000000</td>\n",
       "      <td>41.975375</td>\n",
       "      <td>-87.413325</td>\n",
       "      <td>2.256473e+03</td>\n",
       "      <td>1.888561e+03</td>\n",
       "      <td>0.000000</td>\n",
       "      <td>0.000000</td>\n",
       "    </tr>\n",
       "    <tr>\n",
       "      <th>max</th>\n",
       "      <td>63.000000</td>\n",
       "      <td>957.00000</td>\n",
       "      <td>1.000000</td>\n",
       "      <td>42.111911</td>\n",
       "      <td>-87.106773</td>\n",
       "      <td>7.899788e+04</td>\n",
       "      <td>1.275264e+05</td>\n",
       "      <td>27.714286</td>\n",
       "      <td>63.000000</td>\n",
       "    </tr>\n",
       "  </tbody>\n",
       "</table>\n",
       "</div>"
      ],
      "text/plain": [
       "          crime_freq     yelp_freq    police_freq            lat  \\\n",
       "count  912500.000000  912500.00000  912500.000000  912500.000000   \n",
       "mean        0.488268       5.17560       0.009200      41.833038   \n",
       "std         2.139128      34.54762       0.095474       0.164193   \n",
       "min         0.000000       0.00000       0.000000      41.554389   \n",
       "25%         0.000000       0.00000       0.000000      41.690925   \n",
       "50%         0.000000       0.00000       0.000000      41.830306   \n",
       "75%         0.000000       0.00000       0.000000      41.975375   \n",
       "max        63.000000     957.00000       1.000000      42.111911   \n",
       "\n",
       "                long  police_factor   yelp_factor   avg_one_week  \\\n",
       "count  912500.000000   9.125000e+05  9.125000e+05  895000.000000   \n",
       "mean      -87.720383   6.612750e+03  6.611821e+03       0.488941   \n",
       "std         0.357876   1.559998e+04  1.866010e+04       2.009222   \n",
       "min       -88.358527   7.041843e-26  1.012007e-15       0.000000   \n",
       "25%       -88.026429   2.674969e-06  2.056975e+00       0.000000   \n",
       "50%       -87.726264   1.873981e+00  3.309285e+01       0.000000   \n",
       "75%       -87.413325   2.256473e+03  1.888561e+03       0.000000   \n",
       "max       -87.106773   7.899788e+04  1.275264e+05      27.714286   \n",
       "\n",
       "       prev_day_crime  \n",
       "count   910000.000000  \n",
       "mean         0.488588  \n",
       "std          2.140379  \n",
       "min          0.000000  \n",
       "25%          0.000000  \n",
       "50%          0.000000  \n",
       "75%          0.000000  \n",
       "max         63.000000  "
      ]
     },
     "execution_count": 35,
     "metadata": {},
     "output_type": "execute_result"
    }
   ],
   "source": [
    "feature_df = pd.read_csv('features_full_year_temporal_features_2500.tsv', sep='\\t')\n",
    "feature_df.describe()"
   ]
  },
  {
   "cell_type": "code",
   "execution_count": 36,
   "metadata": {
    "collapsed": false
   },
   "outputs": [
    {
     "name": "stdout",
     "output_type": "stream",
     "text": [
      "CPU times: user 0 ns, sys: 0 ns, total: 0 ns\n",
      "Wall time: 3 ms\n"
     ]
    },
    {
     "data": {
      "text/html": [
       "<div>\n",
       "<table border=\"1\" class=\"dataframe\">\n",
       "  <thead>\n",
       "    <tr style=\"text-align: right;\">\n",
       "      <th></th>\n",
       "      <th>timestamp</th>\n",
       "      <th>PRCP</th>\n",
       "      <th>SNOW</th>\n",
       "      <th>TMAX</th>\n",
       "      <th>TMIN</th>\n",
       "    </tr>\n",
       "  </thead>\n",
       "  <tbody>\n",
       "    <tr>\n",
       "      <th>0</th>\n",
       "      <td>2006-01-01</td>\n",
       "      <td>0.8</td>\n",
       "      <td>0</td>\n",
       "      <td>7.2</td>\n",
       "      <td>-3.3</td>\n",
       "    </tr>\n",
       "    <tr>\n",
       "      <th>1</th>\n",
       "      <td>2006-01-02</td>\n",
       "      <td>9.4</td>\n",
       "      <td>0</td>\n",
       "      <td>5.6</td>\n",
       "      <td>4.4</td>\n",
       "    </tr>\n",
       "    <tr>\n",
       "      <th>2</th>\n",
       "      <td>2006-01-03</td>\n",
       "      <td>0.0</td>\n",
       "      <td>0</td>\n",
       "      <td>5.6</td>\n",
       "      <td>3.9</td>\n",
       "    </tr>\n",
       "    <tr>\n",
       "      <th>3</th>\n",
       "      <td>2006-01-04</td>\n",
       "      <td>0.5</td>\n",
       "      <td>0</td>\n",
       "      <td>6.1</td>\n",
       "      <td>2.2</td>\n",
       "    </tr>\n",
       "    <tr>\n",
       "      <th>4</th>\n",
       "      <td>2006-01-05</td>\n",
       "      <td>0.0</td>\n",
       "      <td>0</td>\n",
       "      <td>2.8</td>\n",
       "      <td>-0.6</td>\n",
       "    </tr>\n",
       "  </tbody>\n",
       "</table>\n",
       "</div>"
      ],
      "text/plain": [
       "    timestamp  PRCP  SNOW  TMAX  TMIN\n",
       "0  2006-01-01   0.8     0   7.2  -3.3\n",
       "1  2006-01-02   9.4     0   5.6   4.4\n",
       "2  2006-01-03   0.0     0   5.6   3.9\n",
       "3  2006-01-04   0.5     0   6.1   2.2\n",
       "4  2006-01-05   0.0     0   2.8  -0.6"
      ]
     },
     "execution_count": 36,
     "metadata": {},
     "output_type": "execute_result"
    }
   ],
   "source": [
    "%time weather_df = get_weather_data_for_year(2006)\n",
    "weather_df.head()"
   ]
  },
  {
   "cell_type": "code",
   "execution_count": 45,
   "metadata": {
    "collapsed": true
   },
   "outputs": [],
   "source": [
    "new_feature_df = pd.merge(feature_df, weather_df, on='timestamp', how='left')\n",
    "new_feature_df.rename(columns={\n",
    "        'prev_day_crime': 'prev_day_crime_freq',\n",
    "        'avg_one_week': 'prev_7_days_crime_freq',\n",
    "    }, inplace=True)"
   ]
  },
  {
   "cell_type": "code",
   "execution_count": 48,
   "metadata": {
    "collapsed": false
   },
   "outputs": [
    {
     "data": {
      "text/html": [
       "<div>\n",
       "<table border=\"1\" class=\"dataframe\">\n",
       "  <thead>\n",
       "    <tr style=\"text-align: right;\">\n",
       "      <th></th>\n",
       "      <th>crime_freq</th>\n",
       "      <th>yelp_freq</th>\n",
       "      <th>police_freq</th>\n",
       "      <th>lat</th>\n",
       "      <th>long</th>\n",
       "      <th>police_factor</th>\n",
       "      <th>yelp_factor</th>\n",
       "      <th>prev_7_days_crime_freq</th>\n",
       "      <th>prev_day_crime_freq</th>\n",
       "      <th>PRCP</th>\n",
       "      <th>SNOW</th>\n",
       "      <th>TMAX</th>\n",
       "      <th>TMIN</th>\n",
       "    </tr>\n",
       "  </thead>\n",
       "  <tbody>\n",
       "    <tr>\n",
       "      <th>count</th>\n",
       "      <td>912500.000000</td>\n",
       "      <td>912500.00000</td>\n",
       "      <td>912500.000000</td>\n",
       "      <td>912500.000000</td>\n",
       "      <td>912500.000000</td>\n",
       "      <td>9.125000e+05</td>\n",
       "      <td>9.125000e+05</td>\n",
       "      <td>895000.000000</td>\n",
       "      <td>910000.000000</td>\n",
       "      <td>912500.000000</td>\n",
       "      <td>912500.000000</td>\n",
       "      <td>912500.000000</td>\n",
       "      <td>912500.000000</td>\n",
       "    </tr>\n",
       "    <tr>\n",
       "      <th>mean</th>\n",
       "      <td>0.488268</td>\n",
       "      <td>5.17560</td>\n",
       "      <td>0.009200</td>\n",
       "      <td>41.833038</td>\n",
       "      <td>-87.720383</td>\n",
       "      <td>6.612750e+03</td>\n",
       "      <td>6.611821e+03</td>\n",
       "      <td>0.488941</td>\n",
       "      <td>0.488588</td>\n",
       "      <td>2.921096</td>\n",
       "      <td>1.405479</td>\n",
       "      <td>15.898082</td>\n",
       "      <td>6.308493</td>\n",
       "    </tr>\n",
       "    <tr>\n",
       "      <th>std</th>\n",
       "      <td>2.139128</td>\n",
       "      <td>34.54762</td>\n",
       "      <td>0.095474</td>\n",
       "      <td>0.164193</td>\n",
       "      <td>0.357876</td>\n",
       "      <td>1.559998e+04</td>\n",
       "      <td>1.866010e+04</td>\n",
       "      <td>2.009222</td>\n",
       "      <td>2.140379</td>\n",
       "      <td>7.500110</td>\n",
       "      <td>10.512619</td>\n",
       "      <td>10.456403</td>\n",
       "      <td>9.397525</td>\n",
       "    </tr>\n",
       "    <tr>\n",
       "      <th>min</th>\n",
       "      <td>0.000000</td>\n",
       "      <td>0.00000</td>\n",
       "      <td>0.000000</td>\n",
       "      <td>41.554389</td>\n",
       "      <td>-88.358527</td>\n",
       "      <td>7.041843e-26</td>\n",
       "      <td>1.012007e-15</td>\n",
       "      <td>0.000000</td>\n",
       "      <td>0.000000</td>\n",
       "      <td>0.000000</td>\n",
       "      <td>0.000000</td>\n",
       "      <td>-13.300000</td>\n",
       "      <td>-21.700000</td>\n",
       "    </tr>\n",
       "    <tr>\n",
       "      <th>25%</th>\n",
       "      <td>0.000000</td>\n",
       "      <td>0.00000</td>\n",
       "      <td>0.000000</td>\n",
       "      <td>41.690925</td>\n",
       "      <td>-88.026429</td>\n",
       "      <td>2.674969e-06</td>\n",
       "      <td>2.056975e+00</td>\n",
       "      <td>0.000000</td>\n",
       "      <td>0.000000</td>\n",
       "      <td>0.000000</td>\n",
       "      <td>0.000000</td>\n",
       "      <td>6.700000</td>\n",
       "      <td>-1.100000</td>\n",
       "    </tr>\n",
       "    <tr>\n",
       "      <th>50%</th>\n",
       "      <td>0.000000</td>\n",
       "      <td>0.00000</td>\n",
       "      <td>0.000000</td>\n",
       "      <td>41.830306</td>\n",
       "      <td>-87.726264</td>\n",
       "      <td>1.873981e+00</td>\n",
       "      <td>3.309285e+01</td>\n",
       "      <td>0.000000</td>\n",
       "      <td>0.000000</td>\n",
       "      <td>0.000000</td>\n",
       "      <td>0.000000</td>\n",
       "      <td>15.600000</td>\n",
       "      <td>5.000000</td>\n",
       "    </tr>\n",
       "    <tr>\n",
       "      <th>75%</th>\n",
       "      <td>0.000000</td>\n",
       "      <td>0.00000</td>\n",
       "      <td>0.000000</td>\n",
       "      <td>41.975375</td>\n",
       "      <td>-87.413325</td>\n",
       "      <td>2.256473e+03</td>\n",
       "      <td>1.888561e+03</td>\n",
       "      <td>0.000000</td>\n",
       "      <td>0.000000</td>\n",
       "      <td>1.300000</td>\n",
       "      <td>0.000000</td>\n",
       "      <td>25.000000</td>\n",
       "      <td>14.400000</td>\n",
       "    </tr>\n",
       "    <tr>\n",
       "      <th>max</th>\n",
       "      <td>63.000000</td>\n",
       "      <td>957.00000</td>\n",
       "      <td>1.000000</td>\n",
       "      <td>42.111911</td>\n",
       "      <td>-87.106773</td>\n",
       "      <td>7.899788e+04</td>\n",
       "      <td>1.275264e+05</td>\n",
       "      <td>27.714286</td>\n",
       "      <td>63.000000</td>\n",
       "      <td>52.100000</td>\n",
       "      <td>147.000000</td>\n",
       "      <td>37.200000</td>\n",
       "      <td>26.700000</td>\n",
       "    </tr>\n",
       "  </tbody>\n",
       "</table>\n",
       "</div>"
      ],
      "text/plain": [
       "          crime_freq     yelp_freq    police_freq            lat  \\\n",
       "count  912500.000000  912500.00000  912500.000000  912500.000000   \n",
       "mean        0.488268       5.17560       0.009200      41.833038   \n",
       "std         2.139128      34.54762       0.095474       0.164193   \n",
       "min         0.000000       0.00000       0.000000      41.554389   \n",
       "25%         0.000000       0.00000       0.000000      41.690925   \n",
       "50%         0.000000       0.00000       0.000000      41.830306   \n",
       "75%         0.000000       0.00000       0.000000      41.975375   \n",
       "max        63.000000     957.00000       1.000000      42.111911   \n",
       "\n",
       "                long  police_factor   yelp_factor  prev_7_days_crime_freq  \\\n",
       "count  912500.000000   9.125000e+05  9.125000e+05           895000.000000   \n",
       "mean      -87.720383   6.612750e+03  6.611821e+03                0.488941   \n",
       "std         0.357876   1.559998e+04  1.866010e+04                2.009222   \n",
       "min       -88.358527   7.041843e-26  1.012007e-15                0.000000   \n",
       "25%       -88.026429   2.674969e-06  2.056975e+00                0.000000   \n",
       "50%       -87.726264   1.873981e+00  3.309285e+01                0.000000   \n",
       "75%       -87.413325   2.256473e+03  1.888561e+03                0.000000   \n",
       "max       -87.106773   7.899788e+04  1.275264e+05               27.714286   \n",
       "\n",
       "       prev_day_crime_freq           PRCP           SNOW           TMAX  \\\n",
       "count        910000.000000  912500.000000  912500.000000  912500.000000   \n",
       "mean              0.488588       2.921096       1.405479      15.898082   \n",
       "std               2.140379       7.500110      10.512619      10.456403   \n",
       "min               0.000000       0.000000       0.000000     -13.300000   \n",
       "25%               0.000000       0.000000       0.000000       6.700000   \n",
       "50%               0.000000       0.000000       0.000000      15.600000   \n",
       "75%               0.000000       1.300000       0.000000      25.000000   \n",
       "max              63.000000      52.100000     147.000000      37.200000   \n",
       "\n",
       "                TMIN  \n",
       "count  912500.000000  \n",
       "mean        6.308493  \n",
       "std         9.397525  \n",
       "min       -21.700000  \n",
       "25%        -1.100000  \n",
       "50%         5.000000  \n",
       "75%        14.400000  \n",
       "max        26.700000  "
      ]
     },
     "execution_count": 48,
     "metadata": {},
     "output_type": "execute_result"
    }
   ],
   "source": [
    "new_feature_df.describe()"
   ]
  },
  {
   "cell_type": "code",
   "execution_count": 49,
   "metadata": {
    "collapsed": true
   },
   "outputs": [],
   "source": [
    "new_feature_df.to_csv('features_temporal_full_year_with_weather_2500_final.tsv', sep='\\t', index=False)"
   ]
  },
  {
   "cell_type": "code",
   "execution_count": null,
   "metadata": {
    "collapsed": true
   },
   "outputs": [],
   "source": []
  }
 ],
 "metadata": {
  "kernelspec": {
   "display_name": "Python 3",
   "language": "python",
   "name": "python3"
  },
  "language_info": {
   "codemirror_mode": {
    "name": "ipython",
    "version": 3
   },
   "file_extension": ".py",
   "mimetype": "text/x-python",
   "name": "python",
   "nbconvert_exporter": "python",
   "pygments_lexer": "ipython3",
   "version": "3.5.2"
  }
 },
 "nbformat": 4,
 "nbformat_minor": 0
}
