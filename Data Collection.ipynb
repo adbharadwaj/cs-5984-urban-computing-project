{
 "cells": [
  {
   "cell_type": "code",
   "execution_count": 23,
   "metadata": {
    "collapsed": true
   },
   "outputs": [],
   "source": [
    "%matplotlib inline\n",
    "import pandas as pd\n",
    "import numpy as np\n",
    "from time import time\n",
    "import matplotlib.pyplot as plt\n",
    "\n",
    "import itertools\n",
    "\n",
    "from sklearn import metrics\n",
    "from sklearn.tree import DecisionTreeClassifier\n",
    "from sklearn.datasets.species_distributions import construct_grids\n",
    "from sklearn.neighbors import KernelDensity\n",
    "from sklearn import preprocessing"
   ]
  },
  {
   "cell_type": "markdown",
   "metadata": {},
   "source": [
    "# Gathering Data\n",
    "\n",
    "- Yelp\n",
    "- Police Stations\n",
    "- Crime\n",
    "- Weather"
   ]
  },
  {
   "cell_type": "code",
   "execution_count": 14,
   "metadata": {
    "collapsed": true
   },
   "outputs": [],
   "source": [
    "def parse_location(loc):\n",
    "    loc = loc.strip(\"()\").split(',')\n",
    "    lat = loc[0].strip()\n",
    "    long = loc[1].strip()\n",
    "    return float(lat), float(long)"
   ]
  },
  {
   "cell_type": "code",
   "execution_count": 15,
   "metadata": {
    "collapsed": true
   },
   "outputs": [],
   "source": [
    "def get_yelp_data():\n",
    "    df = pd.read_csv('../data/weather_police_traffic_yelp_crime_data.csv', parse_dates=['timestamp'])\n",
    "    return df[df.yelp == 1][['lat', 'long']].drop_duplicates().reset_index()[['lat', 'long']]\n",
    "\n",
    "def get_police_station_data():\n",
    "    df = pd.read_csv('../data/weather_police_traffic_yelp_crime_data.csv', parse_dates=['timestamp'])\n",
    "    return df[df.police_station == 1][['lat', 'long']].drop_duplicates().reset_index()[['lat', 'long']]\n",
    "\n",
    "def get_crime_data_for_year(year):\n",
    "    crime_data = pd.read_csv(\"../data/Preprocessed_Crime_Data_%s.csv\"%year, parse_dates=['Date'], usecols=[\"Date\",\"IUCR\",\"Location\"])\n",
    "    crime_data['lat']  = crime_data.Location.apply(lambda x: parse_location(x)[0])\n",
    "    crime_data['long']  = crime_data.Location.apply(lambda x: parse_location(x)[1])\n",
    "    del crime_data[\"Location\"]\n",
    "    crime_data.rename(columns={\"Date\":\"timestamp\"}, inplace=True)\n",
    "    crime_data['timestamp'] = crime_data.timestamp.apply(lambda x: x.date())\n",
    "    return crime_data\n",
    "\n",
    "def get_weather_data_for_year(year):\n",
    "    weather_data = pd.read_csv(\"../data/PreProcessed_Weather_Data_%s.csv\"%year)\n",
    "    weather_data.rename(columns={\"Weather_Date\":\"timestamp\"}, inplace=True)\n",
    "    return weather_data"
   ]
  },
  {
   "cell_type": "code",
   "execution_count": 16,
   "metadata": {
    "collapsed": false
   },
   "outputs": [
    {
     "name": "stderr",
     "output_type": "stream",
     "text": [
      "/home/adb/anaconda3/lib/python3.5/site-packages/IPython/core/magic.py:193: DtypeWarning: Columns (10,11) have mixed types. Specify dtype option on import or set low_memory=False.\n",
      "  call = lambda f, *a, **k: f(*a, **k)\n",
      "/home/adb/anaconda3/lib/python3.5/site-packages/IPython/core/magic.py:193: DtypeWarning: Columns (10,11) have mixed types. Specify dtype option on import or set low_memory=False.\n",
      "  call = lambda f, *a, **k: f(*a, **k)\n"
     ]
    },
    {
     "name": "stdout",
     "output_type": "stream",
     "text": [
      "CPU times: user 14 s, sys: 1.36 s, total: 15.3 s\n",
      "Wall time: 15.3 s\n",
      "CPU times: user 8.88 s, sys: 952 ms, total: 9.83 s\n",
      "Wall time: 12.7 s\n",
      "CPU times: user 1min 9s, sys: 120 ms, total: 1min 9s\n",
      "Wall time: 1min 10s\n",
      "CPU times: user 0 ns, sys: 0 ns, total: 0 ns\n",
      "Wall time: 3.48 ms\n"
     ]
    }
   ],
   "source": [
    "%time yelp_df = get_yelp_data()\n",
    "%time police_df = get_police_station_data()\n",
    "%time crime_df = get_crime_data_for_year(2006)\n",
    "%time weather_df = get_weather_data_for_year(2006)"
   ]
  },
  {
   "cell_type": "markdown",
   "metadata": {},
   "source": [
    "# Dividing Chicago City in a Grid"
   ]
  },
  {
   "cell_type": "code",
   "execution_count": 24,
   "metadata": {
    "collapsed": true
   },
   "outputs": [],
   "source": [
    "class City:\n",
    "    def __init__(self, x_left_lower_corner, y_left_lower_corner, x_upper_right_corner, \n",
    "                 y_upper_right_corner, grid_size=100):\n",
    "    \n",
    "        self.x_left_lower_corner = x_left_lower_corner\n",
    "        self.y_left_lower_corner = y_left_lower_corner\n",
    "        self.x_upper_right_corner = x_upper_right_corner\n",
    "        self.y_upper_right_corner = y_upper_right_corner\n",
    "        self.grid_size = grid_size\n",
    "        self.dividers = self.construct_grid()\n",
    "\n",
    "    \n",
    "    def construct_grid(self):\n",
    "        # x coordinates of the grid cells\n",
    "        xgrid = np.linspace(self.x_left_lower_corner, self.x_upper_right_corner, self.grid_size)\n",
    "        # y coordinates of the grid cells\n",
    "        ygrid = np.linspace(self.y_left_lower_corner, self.y_upper_right_corner, self.grid_size)\n",
    "        return (xgrid, ygrid)\n",
    "    \n",
    "    def get_map_coordinates(self):\n",
    "        map_coordinates = []\n",
    "        for i in itertools.product(self.dividers[0].tolist(),self.dividers[1].tolist()):\n",
    "            map_coordinates.append(i)\n",
    "        return map_coordinates\n",
    "    \n",
    "    def get_diagonals(self):\n",
    "        map_coordinates = self.get_map_coordinates()\n",
    "        n=self.grid_size\n",
    "        diagonals = []\n",
    "        for i in range(0, n*n - n-1):\n",
    "            if(i!=0 and i%n==0):\n",
    "                continue\n",
    "            #print(i)\n",
    "            diagonals.append((map_coordinates[i],map_coordinates[i+n+1]))\n",
    "        return diagonals"
   ]
  },
  {
   "cell_type": "code",
   "execution_count": 26,
   "metadata": {
    "collapsed": false
   },
   "outputs": [
    {
     "data": {
      "text/plain": [
       "2500"
      ]
     },
     "execution_count": 26,
     "metadata": {},
     "output_type": "execute_result"
    }
   ],
   "source": [
    "chicago = City(41.5487, -88.3713, 42.1176, -87.094, 51)\n",
    "cells = chicago.get_diagonals()\n",
    "len(cells)"
   ]
  },
  {
   "cell_type": "markdown",
   "metadata": {},
   "source": [
    "# Counting number of Crime, Yelp and Poice Stations in a grid cell"
   ]
  },
  {
   "cell_type": "code",
   "execution_count": 27,
   "metadata": {
    "collapsed": true
   },
   "outputs": [],
   "source": [
    "def build_freq_df(cells):\n",
    "    timestamps = []\n",
    "    grid_cells = []\n",
    "    for i in list(itertools.product(pd.date_range(start=pd.datetime(2006, 1, 1), periods=365, freq='D').tolist(), cells)):\n",
    "        timestamps.append(i[0].date())\n",
    "        grid_cells.append(i[1])\n",
    "        \n",
    "    df = pd.DataFrame({'timestamp': timestamps, 'cell_range': grid_cells})    \n",
    "    df['crime_freq'] = df.apply(lambda x: crime_df[(crime_df.timestamp == x.timestamp)&\n",
    "                                                   (crime_df.lat >= x.cell_range[0][0])&\n",
    "                                                   (crime_df.lat < x.cell_range[1][0])&\n",
    "                                                   (crime_df.long >= x.cell_range[0][1])&\n",
    "                                                   (crime_df.long < x.cell_range[1][1])].shape[0], axis=1)\n",
    "    spatial_df = df[['cell_range']].drop_duplicates()\n",
    "    spatial_df['yelp_freq'] = df[['cell_range']].apply(lambda x: yelp_df[(yelp_df.lat >= x.cell_range[0][0])&\n",
    "                                                   (yelp_df.lat < x.cell_range[1][0])&\n",
    "                                                   (yelp_df.long >= x.cell_range[0][1])&\n",
    "                                                   (yelp_df.long < x.cell_range[1][1])].shape[0], axis=1)\n",
    "    spatial_df['police_freq'] = df[['cell_range']].apply(lambda x: police_df[(police_df.lat >= x.cell_range[0][0])&\n",
    "                                               (police_df.lat < x.cell_range[1][0])&\n",
    "                                               (police_df.long >= x.cell_range[0][1])&\n",
    "                                               (police_df.long < x.cell_range[1][1])].shape[0], axis=1)\n",
    "\n",
    "    return pd.merge(df, spatial_df, on=['cell_range'], how='left')\n"
   ]
  },
  {
   "cell_type": "code",
   "execution_count": null,
   "metadata": {
    "collapsed": true
   },
   "outputs": [],
   "source": [
    "#cells = [((41.5487, -88.3713), ( 42.1176, -87.094))]\n",
    "%time df = build_freq_df(cells) "
   ]
  },
  {
   "cell_type": "code",
   "execution_count": null,
   "metadata": {
    "collapsed": true
   },
   "outputs": [],
   "source": [
    "df.to_csv('grids_full_year_2500_v2.tsv', sep='\\t', index=False)"
   ]
  },
  {
   "cell_type": "code",
   "execution_count": null,
   "metadata": {
    "collapsed": true
   },
   "outputs": [],
   "source": [
    "1"
   ]
  },
  {
   "cell_type": "code",
   "execution_count": null,
   "metadata": {
    "collapsed": true
   },
   "outputs": [],
   "source": []
  },
  {
   "cell_type": "code",
   "execution_count": 44,
   "metadata": {
    "collapsed": false
   },
   "outputs": [
    {
     "name": "stdout",
     "output_type": "stream",
     "text": [
      "CPU times: user 7min 7s, sys: 592 ms, total: 7min 8s\n",
      "Wall time: 7min 7s\n"
     ]
    }
   ],
   "source": [
    "#cells = [((41.5487, -88.3713), ( 42.1176, -87.094))]\n",
    "%time df = build_freq_df(cells) "
   ]
  },
  {
   "cell_type": "code",
   "execution_count": 59,
   "metadata": {
    "collapsed": true
   },
   "outputs": [],
   "source": [
    "df.to_csv('grids_Jan_400.tsv', sep='\\t', index=False)"
   ]
  },
  {
   "cell_type": "code",
   "execution_count": 61,
   "metadata": {
    "collapsed": false
   },
   "outputs": [
    {
     "name": "stdout",
     "output_type": "stream",
     "text": [
      "CPU times: user 39min 10s, sys: 3.74 s, total: 39min 13s\n",
      "Wall time: 39min 11s\n"
     ]
    }
   ],
   "source": [
    "%time df = build_freq_df(cells)"
   ]
  },
  {
   "cell_type": "code",
   "execution_count": 62,
   "metadata": {
    "collapsed": true
   },
   "outputs": [],
   "source": [
    "df.to_csv('grids_Jan_2500.tsv', sep='\\t', index=False)"
   ]
  },
  {
   "cell_type": "code",
   "execution_count": 69,
   "metadata": {
    "collapsed": false
   },
   "outputs": [
    {
     "name": "stdout",
     "output_type": "stream",
     "text": [
      "CPU times: user 1h 13min 54s, sys: 7 s, total: 1h 14min 1s\n",
      "Wall time: 1h 13min 57s\n"
     ]
    }
   ],
   "source": [
    "%time df = build_freq_df(cells)"
   ]
  },
  {
   "cell_type": "code",
   "execution_count": 70,
   "metadata": {
    "collapsed": true
   },
   "outputs": [],
   "source": [
    "df.to_csv('grids_full_year_400_v2.tsv', sep='\\t', index=False)"
   ]
  },
  {
   "cell_type": "code",
   "execution_count": null,
   "metadata": {
    "collapsed": true
   },
   "outputs": [],
   "source": []
  }
 ],
 "metadata": {
  "kernelspec": {
   "display_name": "Python 3",
   "language": "python",
   "name": "python3"
  },
  "language_info": {
   "codemirror_mode": {
    "name": "ipython",
    "version": 3
   },
   "file_extension": ".py",
   "mimetype": "text/x-python",
   "name": "python",
   "nbconvert_exporter": "python",
   "pygments_lexer": "ipython3",
   "version": "3.5.2"
  }
 },
 "nbformat": 4,
 "nbformat_minor": 0
}
